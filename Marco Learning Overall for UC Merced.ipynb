{
 "cells": [
  {
   "cell_type": "code",
   "execution_count": null,
   "id": "9015eedd",
   "metadata": {},
   "outputs": [],
   "source": [
    "import numpy as np\n",
    "import pandas as pd"
   ]
  },
  {
   "cell_type": "code",
   "execution_count": null,
   "id": "c20367de",
   "metadata": {},
   "outputs": [],
   "source": [
    "marco = input('Pathway of raw Marco learning data (get rid of quotations):   ')\n",
    "marco = pd.read_excel(marco)"
   ]
  },
  {
   "cell_type": "code",
   "execution_count": null,
   "id": "d05a8c91",
   "metadata": {},
   "outputs": [],
   "source": [
    "marco"
   ]
  },
  {
   "cell_type": "code",
   "execution_count": null,
   "id": "575803ef",
   "metadata": {},
   "outputs": [],
   "source": [
    "overall = input('Pathway of raw Illuminate learning data (get rid of quotations):   ')\n",
    "overall = pd.read_excel(overall)"
   ]
  },
  {
   "cell_type": "code",
   "execution_count": null,
   "id": "6d09fe2e",
   "metadata": {},
   "outputs": [],
   "source": [
    "overall"
   ]
  },
  {
   "cell_type": "code",
   "execution_count": null,
   "id": "81d6ef8f",
   "metadata": {},
   "outputs": [],
   "source": [
    "marco = marco[['student_id', 'Total']]\n",
    "marco"
   ]
  },
  {
   "cell_type": "code",
   "execution_count": null,
   "id": "5fa9bfec",
   "metadata": {},
   "outputs": [],
   "source": [
    "marco = marco.fillna(0)\n",
    "marco"
   ]
  },
  {
   "cell_type": "code",
   "execution_count": null,
   "id": "12668c6c",
   "metadata": {},
   "outputs": [],
   "source": [
    "combined = pd.merge(overall, marco, how='left', left_on='Student Id', right_on='student_id')\n",
    "combined"
   ]
  },
  {
   "cell_type": "code",
   "execution_count": null,
   "id": "297fd908",
   "metadata": {},
   "outputs": [],
   "source": [
    "combined = combined.drop_duplicates(subset=['Student Id'])\n",
    "combined"
   ]
  },
  {
   "cell_type": "code",
   "execution_count": null,
   "id": "556129ae",
   "metadata": {},
   "outputs": [],
   "source": [
    "combined['Number Correct'] = combined.apply(lambda row: row['Total']\n",
    "                            if pd.notna(row['Total']) else row['Number Correct'], axis=1)\n",
    "combined"
   ]
  },
  {
   "cell_type": "code",
   "execution_count": null,
   "id": "b647dc51",
   "metadata": {},
   "outputs": [],
   "source": [
    "combined['Percentage'] = ((combined['Number Correct'] / combined['Number Possible']) * 100).round(2).astype(str) + '%'\n",
    "combined"
   ]
  },
  {
   "cell_type": "code",
   "execution_count": null,
   "id": "4684626a",
   "metadata": {},
   "outputs": [],
   "source": [
    "combined['% Correct'] = combined['Percentage']\n",
    "combined"
   ]
  },
  {
   "cell_type": "code",
   "execution_count": null,
   "id": "27b04256",
   "metadata": {},
   "outputs": [],
   "source": [
    "columns_to_drop = ['student_id', 'Total', 'Percentage']\n",
    "combined = combined.drop(columns=columns_to_drop)\n",
    "combined"
   ]
  },
  {
   "cell_type": "code",
   "execution_count": null,
   "id": "5a0a804d",
   "metadata": {},
   "outputs": [],
   "source": [
    "import base64\n",
    "from IPython.display import HTML\n",
    "\n",
    "def create_download_link( df, title = \"ELA Overall with Marco\", filename = \"ELA Overall with Marco\"):\n",
    "    csv = df.to_csv(index=False)\n",
    "    b64 = base64.b64encode(csv.encode())\n",
    "    payload = b64.decode()\n",
    "    html = '<a download=\"{filename}\" href=\"data:text/csv;base64,{payload}\" target=\"_blank\">{title}</a>'\n",
    "    html = html.format(payload=payload,title=title,filename=filename)\n",
    "    return HTML(html)\n",
    "\n",
    "create_download_link(combined)"
   ]
  },
  {
   "cell_type": "code",
   "execution_count": null,
   "id": "bf178c80",
   "metadata": {},
   "outputs": [],
   "source": []
  }
 ],
 "metadata": {
  "kernelspec": {
   "display_name": "Python 3 (ipykernel)",
   "language": "python",
   "name": "python3"
  },
  "language_info": {
   "codemirror_mode": {
    "name": "ipython",
    "version": 3
   },
   "file_extension": ".py",
   "mimetype": "text/x-python",
   "name": "python",
   "nbconvert_exporter": "python",
   "pygments_lexer": "ipython3",
   "version": "3.9.7"
  }
 },
 "nbformat": 4,
 "nbformat_minor": 5
}
