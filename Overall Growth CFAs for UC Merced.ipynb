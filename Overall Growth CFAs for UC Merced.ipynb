{
 "cells": [
  {
   "cell_type": "markdown",
   "id": "12e2d18a",
   "metadata": {},
   "source": [
    "# Overall Growth CFAs for UC Merced\n",
    "\n",
    "In this Jupyter notebook, the number of CFAs will be asked for at the beginning which will trigger a number of If Then statements that take an input of the overall files for the CFAs then create columns for the percent that are correct overall as well as a change in percent between the tests"
   ]
  },
  {
   "cell_type": "code",
   "execution_count": null,
   "id": "a08abf4c",
   "metadata": {},
   "outputs": [],
   "source": [
    "import numpy as np\n",
    "import pandas as pd"
   ]
  },
  {
   "cell_type": "markdown",
   "id": "6adec132",
   "metadata": {},
   "source": [
    "## Data Preparation\n",
    "\n",
    "The number of CFAs will be asked for which will prompt an If Then statement for each of the overall CFA file pathways that have to be input. Each test will have a column created for what test number it is as well as the subject."
   ]
  },
  {
   "cell_type": "code",
   "execution_count": null,
   "id": "8c9e1fff",
   "metadata": {},
   "outputs": [],
   "source": [
    "# Ask for an input number of CFAs and turns the string into a number\n",
    "cfas = input('Number of CFAs = ')\n",
    "cfas = int(cfas)"
   ]
  },
  {
   "cell_type": "code",
   "execution_count": null,
   "id": "25083710",
   "metadata": {},
   "outputs": [],
   "source": [
    "# Based on number of CFAs a series of input for the various file pathways will be asked for\n",
    "if cfas == 1:\n",
    "    cfa_one_ela = input('Pathway of CFA One Overall for ELA (get rid of quotations):   ')\n",
    "    cfa_one_ela = pd.read_excel(cfa_one_ela)\n",
    "    cfa_one_math = input('Pathway of CFA One Overall for Math (get rid of quotations):   ')\n",
    "    cfa_one_math = pd.read_excel(cfa_one_math)\n",
    "elif cfas == 2:\n",
    "    cfa_one_ela = input('Pathway of CFA One Overall for ELA (get rid of quotations):   ')\n",
    "    cfa_one_ela = pd.read_excel(cfa_one_ela)\n",
    "    cfa_one_math = input('Pathway of CFA One Overall for Math (get rid of quotations):   ')\n",
    "    cfa_one_math = pd.read_excel(cfa_one_math)\n",
    "    cfa_two_ela = input('Pathway of CFA Two Overall for ELA (get rid of quotations):   ')\n",
    "    cfa_two_ela = pd.read_excel(cfa_two_ela)\n",
    "    cfa_two_math = input('Pathway of CFA Two Overall for Math (get rid of quotations):   ')\n",
    "    cfa_two_math = pd.read_excel(cfa_two_math)\n",
    "elif cfas == 3:\n",
    "    cfa_one_ela = input('Pathway of CFA One Overall for ELA (get rid of quotations):   ')\n",
    "    cfa_one_ela = pd.read_excel(cfa_one_ela)\n",
    "    cfa_one_math = input('Pathway of CFA One Overall for Math (get rid of quotations):   ')\n",
    "    cfa_one_math = pd.read_excel(cfa_one_math)\n",
    "    cfa_two_ela = input('Pathway of CFA Two Overall for ELA (get rid of quotations):   ')\n",
    "    cfa_two_ela = pd.read_excel(cfa_two_ela)\n",
    "    cfa_two_math = input('Pathway of CFA Two Overall for Math (get rid of quotations):   ')\n",
    "    cfa_two_math = pd.read_excel(cfa_two_math)\n",
    "    cfa_three_ela = input('Pathway of CFA Three Overall for ELA (get rid of quotations):   ')\n",
    "    cfa_three_ela = pd.read_excel(cfa_three_ela)\n",
    "    cfa_three_math = input('Pathway of CFA Three Overall for Math (get rid of quotations):   ')\n",
    "    cfa_three_math = pd.read_excel(cfa_three_math)\n",
    "elif cfas == 4:\n",
    "    cfa_one_ela = input('Pathway of CFA One Overall for ELA (get rid of quotations):   ')\n",
    "    cfa_one_ela = pd.read_excel(cfa_one_ela)\n",
    "    cfa_one_math = input('Pathway of CFA One Overall for Math (get rid of quotations):   ')\n",
    "    cfa_one_math = pd.read_excel(cfa_one_math)\n",
    "    cfa_two_ela = input('Pathway of CFA Two Overall for ELA (get rid of quotations):   ')\n",
    "    cfa_two_ela = pd.read_excel(cfa_two_ela)\n",
    "    cfa_two_math = input('Pathway of CFA Two Overall for Math (get rid of quotations):   ')\n",
    "    cfa_two_math = pd.read_excel(cfa_two_math)\n",
    "    cfa_three_ela = input('Pathway of CFA Three Overall for ELA (get rid of quotations):   ')\n",
    "    cfa_three_ela = pd.read_excel(cfa_three_ela)\n",
    "    cfa_three_math = input('Pathway of CFA Three Overall for Math (get rid of quotations):   ')\n",
    "    cfa_three_math = pd.read_excel(cfa_three_math)\n",
    "    cfa_four_ela = input('Pathway of CFA Four Overall for ELA (get rid of quotations):   ')\n",
    "    cfa_four_ela = pd.read_excel(cfa_four_ela)\n",
    "    cfa_four_math = input('Pathway of CFA Four Overall for Math (get rid of quotations):   ')\n",
    "    cfa_four_math = pd.read_excel(cfa_four_math)"
   ]
  },
  {
   "cell_type": "code",
   "execution_count": null,
   "id": "ab511afb",
   "metadata": {},
   "outputs": [],
   "source": [
    "# Each test will be marked for what test it is as well as the subject area\n",
    "if cfas == 1:\n",
    "    cfa_one_ela['Test'] = 'CFA One'\n",
    "    cfa_one_ela['Subject'] = 'ELA'\n",
    "    cfa_one_math['Test'] = 'CFA One'\n",
    "    cfa_one_math['Subject'] = 'Math'\n",
    "elif cfas == 2:\n",
    "    cfa_one_ela['Test'] = 'CFA One'\n",
    "    cfa_one_ela['Subject'] = 'ELA'\n",
    "    cfa_one_math['Test'] = 'CFA One'\n",
    "    cfa_one_math['Subject'] = 'Math'\n",
    "    cfa_two_ela['Test'] = 'CFA Two'\n",
    "    cfa_two_ela['Subject'] = 'ELA'\n",
    "    cfa_two_math['Test'] = 'CFA Two'\n",
    "    cfa_two_math['Subject'] = 'Math'\n",
    "elif cfas == 3:\n",
    "    cfa_one_ela['Test'] = 'CFA One'\n",
    "    cfa_one_ela['Subject'] = 'ELA'\n",
    "    cfa_one_math['Test'] = 'CFA One'\n",
    "    cfa_one_math['Subject'] = 'Math'\n",
    "    cfa_two_ela['Test'] = 'CFA Two'\n",
    "    cfa_two_ela['Subject'] = 'ELA'\n",
    "    cfa_two_math['Test'] = 'CFA Two'\n",
    "    cfa_two_math['Subject'] = 'Math'\n",
    "    cfa_three_ela['Test'] = 'CFA Three'\n",
    "    cfa_three_ela['Subject'] = 'ELA'\n",
    "    cfa_three_math['Test'] = 'CFA Three'\n",
    "    cfa_three_math['Subject'] = 'Math'\n",
    "elif cfas == 4:\n",
    "    cfa_one_ela['Test'] = 'CFA One'\n",
    "    cfa_one_ela['Subject'] = 'ELA'\n",
    "    cfa_one_math['Test'] = 'CFA One'\n",
    "    cfa_one_math['Subject'] = 'Math'\n",
    "    cfa_two_ela['Test'] = 'CFA Two'\n",
    "    cfa_two_ela['Subject'] = 'ELA'\n",
    "    cfa_two_math['Test'] = 'CFA Two'\n",
    "    cfa_two_math['Subject'] = 'Math'\n",
    "    cfa_three_ela['Test'] = 'CFA Three'\n",
    "    cfa_three_ela['Subject'] = 'ELA'\n",
    "    cfa_three_math['Test'] = 'CFA Three'\n",
    "    cfa_three_math['Subject'] = 'Math'\n",
    "    cfa_four_ela['Test'] = 'CFA Four'\n",
    "    cfa_four_ela['Subject'] = 'ELA'\n",
    "    cfa_four_math['Test'] = 'CFA Four'\n",
    "    cfa_four_math['Subject'] = 'Math'"
   ]
  },
  {
   "cell_type": "markdown",
   "id": "e493c37c",
   "metadata": {},
   "source": [
    "## Data Manipulation\n",
    "\n",
    "The two dataframes for each CFA will be concatenated together and then the columns having their names changed to reflect what test they are from.\n",
    "\n",
    "A series of outer merges will be done with each test so that data is not lost in case a student did not take a particular CFA."
   ]
  },
  {
   "cell_type": "code",
   "execution_count": null,
   "id": "770ba054",
   "metadata": {},
   "outputs": [],
   "source": [
    "# Dataframes for each test concatenated then columns renamed for each test it is from\n",
    "if cfas == 1:\n",
    "    cfa_one = pd.concat([cfa_one_ela, cfa_one_math])\n",
    "    cfa_one = cfa_one[['Student Id', '% Correct', 'Subject']]\n",
    "    cfa_one = cfa_one.rename(columns = {'% Correct': 'CFA One Overall'}) \n",
    "elif cfas == 2:\n",
    "    cfa_one = pd.concat([cfa_one_ela, cfa_one_math])\n",
    "    cfa_one = cfa_one[['Student Id', '% Correct', 'Subject']]\n",
    "    cfa_one = cfa_one.rename(columns = {'% Correct': 'CFA One Overall'}) \n",
    "    cfa_two = pd.concat([cfa_two_ela, cfa_two_math])\n",
    "    cfa_two = cfa_two[['Student Id', '% Correct', 'Subject']]\n",
    "    cfa_two = cfa_two.rename(columns = {'% Correct': 'CFA Two Overall'})\n",
    "elif cfas == 3:\n",
    "    cfa_one = pd.concat([cfa_one_ela, cfa_one_math])\n",
    "    cfa_one = cfa_one[['Student Id', '% Correct', 'Subject']]\n",
    "    cfa_one = cfa_one.rename(columns = {'% Correct': 'CFA One Overall'}) \n",
    "    cfa_two = pd.concat([cfa_two_ela, cfa_two_math])\n",
    "    cfa_two = cfa_two[['Student Id', '% Correct', 'Subject']]\n",
    "    cfa_two = cfa_two.rename(columns = {'% Correct': 'CFA Two Overall'})\n",
    "    cfa_three = pd.concat([cfa_three_ela, cfa_three_math])\n",
    "    cfa_three = cfa_three[['Student Id', '% Correct', 'Subject']]\n",
    "    cfa_three = cfa_three.rename(columns = {'% Correct': 'CFA Three Overall'})\n",
    "elif cfas == 4:\n",
    "    cfa_one = pd.concat([cfa_one_ela, cfa_one_math])\n",
    "    cfa_one = cfa_one[['Student Id', '% Correct', 'Subject']]\n",
    "    cfa_one = cfa_one.rename(columns = {'% Correct': 'CFA One Overall'}) \n",
    "    cfa_two = pd.concat([cfa_two_ela, cfa_two_math])\n",
    "    cfa_two = cfa_two[['Student Id', '% Correct', 'Subject']]\n",
    "    cfa_two = cfa_two.rename(columns = {'% Correct': 'CFA Two Overall'})\n",
    "    cfa_three = pd.concat([cfa_three_ela, cfa_three_math])\n",
    "    cfa_three = cfa_three[['Student Id', '% Correct', 'Subject']]\n",
    "    cfa_three = cfa_three.rename(columns = {'% Correct': 'CFA Three Overall'})\n",
    "    cfa_four = pd.concat([cfa_four_ela, cfa_four_math])\n",
    "    cfa_four = cfa_four[['Student Id', '% Correct', 'Subject']]\n",
    "    cfa_four = cfa_four.rename(columns = {'% Correct': 'CFA Four Overall'})"
   ]
  },
  {
   "cell_type": "code",
   "execution_count": null,
   "id": "942edda3",
   "metadata": {},
   "outputs": [],
   "source": [
    "# Full outer merge is done on Student ID and Subject\n",
    "if cfas == 1:\n",
    "    merge = cfa_one\n",
    "elif cfas == 2:\n",
    "    merge = pd.merge(cfa_one, cfa_two, how='outer', on=['Student Id', 'Subject'])\n",
    "elif cfas == 3:\n",
    "    merge = pd.merge(cfa_one, cfa_two, how='outer', on=['Student Id', 'Subject'])\n",
    "    merge = pd.merge(merge, cfa_three, how='outer', on=['Student Id', 'Subject'])\n",
    "elif cfas == 4:\n",
    "    merge = pd.merge(cfa_one, cfa_two, how='outer', on=['Student Id', 'Subject'])\n",
    "    merge = pd.merge(merge, cfa_three, how='outer', on=['Student Id', 'Subject'])\n",
    "    merge = pd.merge(merge, cfa_four, how='outer', on=['Student Id', 'Subject'])"
   ]
  },
  {
   "cell_type": "markdown",
   "id": "254e7254",
   "metadata": {},
   "source": [
    "## Calculations\n",
    "\n",
    "The string of the percent overall in each column is changed to a number to allow for calculations as the % sign is dropped. New columns are created that subtract the overall from the previous test to the next test to reflect the percent change for a student.\n",
    "\n",
    "Any extra columns leftover from merges will be dropped to give one final dataframe that has the overall perfomance and the percent change between tests for each student."
   ]
  },
  {
   "cell_type": "code",
   "execution_count": null,
   "id": "9cceca61",
   "metadata": {},
   "outputs": [],
   "source": [
    "# The overall is changed to a number as the % sign is dropped\n",
    "if cfas == 1:\n",
    "    merge['CFA One Overall'] = pd.to_numeric(merge['CFA One Overall'].str.strip('%'))\n",
    "elif cfas == 2:\n",
    "    merge['CFA One Overall'] = pd.to_numeric(merge['CFA One Overall'].str.strip('%'))\n",
    "    merge['CFA Two Overall'] = pd.to_numeric(merge['CFA Two Overall'].str.strip('%'))\n",
    "elif cfas == 3:\n",
    "    merge['CFA One Overall'] = pd.to_numeric(merge['CFA One Overall'].str.strip('%'))\n",
    "    merge['CFA Two Overall'] = pd.to_numeric(merge['CFA Two Overall'].str.strip('%'))\n",
    "    merge['CFA Three Overall'] = pd.to_numeric(merge['CFA Three Overall'].str.strip('%'))\n",
    "elif cfas == 4:\n",
    "    merge['CFA One Overall'] = pd.to_numeric(merge['CFA One Overall'].str.strip('%'))\n",
    "    merge['CFA Two Overall'] = pd.to_numeric(merge['CFA Two Overall'].str.strip('%'))\n",
    "    merge['CFA Three Overall'] = pd.to_numeric(merge['CFA Three Overall'].str.strip('%'))\n",
    "    merge['CFA Four Overall'] = pd.to_numeric(merge['CFA Four Overall'].str.strip('%'))"
   ]
  },
  {
   "cell_type": "code",
   "execution_count": null,
   "id": "dcc27c5f",
   "metadata": {},
   "outputs": [],
   "source": [
    "# The overall from one test is subtracted from the previous to get the growth for a student\n",
    "if cfas == 2:\n",
    "    merge['CFA Two Growth'] = merge['CFA Two Overall'] - merge['CFA One Overall']\n",
    "    merge['CFA Two Growth'] = merge['CFA Two Growth'].round(2)\n",
    "elif cfas == 3:\n",
    "    merge['CFA Two Growth'] = merge['CFA Two Overall'] - merge['CFA One Overall']\n",
    "    merge['CFA Two Growth'] = merge['CFA Two Growth'].round(2)\n",
    "    merge['CFA Three Growth'] = merge['CFA Three Overall'] - merge['CFA Two Overall']\n",
    "    merge['CFA Three Growth'] = merge['CFA Three Growth'].round(2)\n",
    "elif cfas == 4:\n",
    "    merge['CFA Two Growth'] = merge['CFA Two Overall'] - merge['CFA One Overall']\n",
    "    merge['CFA Two Growth'] = merge['CFA Two Growth'].round(2)\n",
    "    merge['CFA Three Growth'] = merge['CFA Three Overall'] - merge['CFA Two Overall']\n",
    "    merge['CFA Three Growth'] = merge['CFA Three Growth'].round(2)\n",
    "    merge['CFA Four Growth'] = merge['CFA Four Overall'] - merge['CFA Three Overall']\n",
    "    merge['CFA Four Growth'] = merge['CFA Four Growth'].round(2)\n",
    "else:\n",
    "    pass"
   ]
  },
  {
   "cell_type": "code",
   "execution_count": null,
   "id": "3e787d7e",
   "metadata": {},
   "outputs": [],
   "source": [
    "merge"
   ]
  },
  {
   "cell_type": "code",
   "execution_count": null,
   "id": "67f2a2a7",
   "metadata": {},
   "outputs": [],
   "source": [
    "# Drop excess columns that were left over from the merge\n",
    "if cfas == 1:\n",
    "    merge = merge\n",
    "elif cfas == 2:\n",
    "    merge = merge[['Student Id', 'Subject', 'CFA One Overall', 'CFA Two Overall', 'CFA Two Growth']]\n",
    "elif cfas == 3:\n",
    "        merge = merge[['Student Id', 'Subject', 'CFA One Overall', 'CFA Two Overall', 'CFA Two Growth',\n",
    "                      'CFA Three Overall', 'CFA Three Growth']]\n",
    "elif cfas == 4:\n",
    "        merge = merge[['Student Id', 'Subject', 'CFA One Overall', 'CFA Two Overall', 'CFA Two Growth',\n",
    "                      'CFA Three Overall', 'CFA Three Growth', 'CFA Four Overall', 'CFA Four Growth']]"
   ]
  },
  {
   "cell_type": "code",
   "execution_count": null,
   "id": "712e9c91",
   "metadata": {},
   "outputs": [],
   "source": [
    "merge"
   ]
  },
  {
   "cell_type": "code",
   "execution_count": null,
   "id": "86dcab53",
   "metadata": {},
   "outputs": [],
   "source": [
    "import base64\n",
    "from IPython.display import HTML\n",
    "\n",
    "def create_download_link( df, title = \"CFA Overall for Merced\", filename = \"CFA Overall for Merced\"):\n",
    "    csv = df.to_csv(index=False)\n",
    "    b64 = base64.b64encode(csv.encode())\n",
    "    payload = b64.decode()\n",
    "    html = '<a download=\"{filename}\" href=\"data:text/csv;base64,{payload}\" target=\"_blank\">{title}</a>'\n",
    "    html = html.format(payload=payload,title=title,filename=filename)\n",
    "    return HTML(html)\n",
    "\n",
    "create_download_link(merge)"
   ]
  },
  {
   "cell_type": "code",
   "execution_count": null,
   "id": "7497701d",
   "metadata": {},
   "outputs": [],
   "source": []
  }
 ],
 "metadata": {
  "kernelspec": {
   "display_name": "Python 3 (ipykernel)",
   "language": "python",
   "name": "python3"
  },
  "language_info": {
   "codemirror_mode": {
    "name": "ipython",
    "version": 3
   },
   "file_extension": ".py",
   "mimetype": "text/x-python",
   "name": "python",
   "nbconvert_exporter": "python",
   "pygments_lexer": "ipython3",
   "version": "3.9.7"
  }
 },
 "nbformat": 4,
 "nbformat_minor": 5
}
