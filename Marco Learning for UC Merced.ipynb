{
 "cells": [
  {
   "cell_type": "code",
   "execution_count": null,
   "id": "1cea009f",
   "metadata": {},
   "outputs": [],
   "source": [
    "import numpy as np\n",
    "import pandas as pd"
   ]
  },
  {
   "cell_type": "markdown",
   "id": "b1fad843",
   "metadata": {},
   "source": [
    "## Input Destination\n",
    "\n",
    "You need to input the destination folder and give it a file name at the end before running the full code."
   ]
  },
  {
   "cell_type": "code",
   "execution_count": null,
   "id": "cce1627b",
   "metadata": {},
   "outputs": [],
   "source": [
    "# Write pathway and file name for overall file\n",
    "\n",
    "overall_final = output_final = \"C:\\\\Users\\\\derek.castleman\\\\Desktop\\\\CFA Data\\\\CFA Data 23-24\\\\CFA 2\\\\CFA_Overall_Marco.xlsx\"\n",
    "\n",
    "standards_final = output_final = \"C:\\\\Users\\\\derek.castleman\\\\Desktop\\\\CFA Data\\\\CFA Data 23-24\\\\CFA 2\\\\CFA_Standards_Marco.xlsx\""
   ]
  },
  {
   "cell_type": "code",
   "execution_count": null,
   "id": "e8147876",
   "metadata": {},
   "outputs": [],
   "source": [
    "marco = input('Pathway of raw Marco learning data (get rid of quotations):   ')\n",
    "marco = pd.read_excel(marco)"
   ]
  },
  {
   "cell_type": "code",
   "execution_count": null,
   "id": "6f1cbe95",
   "metadata": {},
   "outputs": [],
   "source": [
    "marco"
   ]
  },
  {
   "cell_type": "code",
   "execution_count": null,
   "id": "20324924",
   "metadata": {},
   "outputs": [],
   "source": [
    "overall = input('Pathway of raw Illuminate learning data (get rid of quotations):   ')\n",
    "overall = pd.read_excel(overall)"
   ]
  },
  {
   "cell_type": "code",
   "execution_count": null,
   "id": "77b91c73",
   "metadata": {},
   "outputs": [],
   "source": [
    "overall"
   ]
  },
  {
   "cell_type": "code",
   "execution_count": null,
   "id": "210375b1",
   "metadata": {},
   "outputs": [],
   "source": [
    "overall_standards = input('Pathway of raw Illuminate Standards learning data (get rid of quotations):   ')\n",
    "overall_standards = pd.read_excel(overall_standards)"
   ]
  },
  {
   "cell_type": "code",
   "execution_count": null,
   "id": "a274e696",
   "metadata": {},
   "outputs": [],
   "source": [
    "marco = marco[['student_id', 'Total']]\n",
    "marco"
   ]
  },
  {
   "cell_type": "code",
   "execution_count": null,
   "id": "f46feec1",
   "metadata": {},
   "outputs": [],
   "source": [
    "marco = marco.fillna(0)\n",
    "marco"
   ]
  },
  {
   "cell_type": "code",
   "execution_count": null,
   "id": "9a74fac7",
   "metadata": {},
   "outputs": [],
   "source": [
    "combined = pd.merge(overall, marco, how='left', left_on='Student Id', right_on='student_id')\n",
    "combined"
   ]
  },
  {
   "cell_type": "code",
   "execution_count": null,
   "id": "30fe4439",
   "metadata": {},
   "outputs": [],
   "source": [
    "combined = combined.drop_duplicates(subset=['Student Id'])\n",
    "combined"
   ]
  },
  {
   "cell_type": "code",
   "execution_count": null,
   "id": "4c48d83f",
   "metadata": {},
   "outputs": [],
   "source": [
    "combined['Number Correct'] = combined.apply(lambda row: row['Total']\n",
    "                            if pd.notna(row['Total']) else row['Number Correct'], axis=1)\n",
    "combined"
   ]
  },
  {
   "cell_type": "code",
   "execution_count": null,
   "id": "6de5c96f",
   "metadata": {},
   "outputs": [],
   "source": [
    "combined['Performance Band Level'] = combined.apply(lambda row: row['Total']\n",
    "                            if pd.notna(row['Total']) else row['Performance Band Level'], axis=1)\n",
    "combined"
   ]
  },
  {
   "cell_type": "code",
   "execution_count": null,
   "id": "3f1820bf",
   "metadata": {},
   "outputs": [],
   "source": [
    "combined['Percentage'] = ((combined['Number Correct'] / combined['Number Possible']) * 100).round(2).astype(str) + '%'\n",
    "combined"
   ]
  },
  {
   "cell_type": "code",
   "execution_count": null,
   "id": "7db49ca0",
   "metadata": {},
   "outputs": [],
   "source": [
    "combined['% Correct'] = combined['Percentage']\n",
    "combined"
   ]
  },
  {
   "cell_type": "code",
   "execution_count": null,
   "id": "be2d27a2",
   "metadata": {},
   "outputs": [],
   "source": [
    "columns_to_drop = ['student_id', 'Total', 'Percentage']\n",
    "final_overall = combined.drop(columns=columns_to_drop)\n",
    "final_overall"
   ]
  },
  {
   "cell_type": "code",
   "execution_count": null,
   "id": "e10ff26d",
   "metadata": {},
   "outputs": [],
   "source": [
    "overall_standards"
   ]
  },
  {
   "cell_type": "code",
   "execution_count": null,
   "id": "83c7d627",
   "metadata": {},
   "outputs": [],
   "source": [
    "combined"
   ]
  },
  {
   "cell_type": "code",
   "execution_count": null,
   "id": "31dbd0d4",
   "metadata": {},
   "outputs": [],
   "source": [
    "columns_to_drop = ['Percentage']\n",
    "combined = combined.drop(columns=columns_to_drop)"
   ]
  },
  {
   "cell_type": "code",
   "execution_count": null,
   "id": "8abdb82f",
   "metadata": {},
   "outputs": [],
   "source": [
    "combined"
   ]
  },
  {
   "cell_type": "code",
   "execution_count": null,
   "id": "ebbaa706",
   "metadata": {},
   "outputs": [],
   "source": [
    "combined['Percentage'] = ((combined['Number Correct'] / combined['Number Possible']) * 100).round(2)\n",
    "combined"
   ]
  },
  {
   "cell_type": "code",
   "execution_count": null,
   "id": "59cd8945",
   "metadata": {},
   "outputs": [],
   "source": [
    "combined['% Correct'] = combined['Percentage']\n",
    "combined"
   ]
  },
  {
   "cell_type": "code",
   "execution_count": null,
   "id": "f46b5106",
   "metadata": {},
   "outputs": [],
   "source": [
    "marco_standards = combined[['student_id', 'Performance Band Level', '% Correct']]\n",
    "marco_standards"
   ]
  },
  {
   "cell_type": "code",
   "execution_count": null,
   "id": "360f165e",
   "metadata": {},
   "outputs": [],
   "source": [
    "overall_standards"
   ]
  },
  {
   "cell_type": "code",
   "execution_count": null,
   "id": "095ad0cd",
   "metadata": {},
   "outputs": [],
   "source": [
    "combined_standards = pd.merge(overall_standards, marco_standards, how='left', left_on='Student ID', right_on='student_id')\n",
    "combined_standards"
   ]
  },
  {
   "cell_type": "code",
   "execution_count": null,
   "id": "0c06fed8",
   "metadata": {},
   "outputs": [],
   "source": [
    "melted = combined_standards.melt(['Current Site ID','Student ID', 'Current Grade Level', 'State Student ID',\n",
    "             'First Name', 'Last Name', 'English Proficiency Code',\n",
    "            'English Proficiency', 'Student Is Special Ed?', 'Date Taken', 'student_id',\n",
    "            'Performance Band Level_y', '% Correct'], var_name='Standard', value_name='Level')\n",
    "melted"
   ]
  },
  {
   "cell_type": "code",
   "execution_count": null,
   "id": "6be966ce",
   "metadata": {},
   "outputs": [],
   "source": [
    "non_marco = melted[melted['student_id'].isna()]\n",
    "non_marco"
   ]
  },
  {
   "cell_type": "code",
   "execution_count": null,
   "id": "d52bb19a",
   "metadata": {},
   "outputs": [],
   "source": [
    "marco_students = melted[melted['student_id'].notna()]\n",
    "marco_students"
   ]
  },
  {
   "cell_type": "code",
   "execution_count": null,
   "id": "a345d2d4",
   "metadata": {},
   "outputs": [],
   "source": [
    "marco_students = marco_students[marco_students['Level'].notna()]\n",
    "marco_students"
   ]
  },
  {
   "cell_type": "code",
   "execution_count": null,
   "id": "1bbc3b3d",
   "metadata": {},
   "outputs": [],
   "source": [
    "performance_band = marco_students[marco_students['Standard'].str.contains('Performance Band Level')]\n",
    "performance_band"
   ]
  },
  {
   "cell_type": "code",
   "execution_count": null,
   "id": "2b6aca02",
   "metadata": {},
   "outputs": [],
   "source": [
    "performance_band['Level'] = performance_band['Performance Band Level_y']\n",
    "performance_band"
   ]
  },
  {
   "cell_type": "code",
   "execution_count": null,
   "id": "fd251172",
   "metadata": {},
   "outputs": [],
   "source": [
    "percent_correct = marco_students[marco_students['Standard'].str.contains('Percent Correct')]\n",
    "percent_correct"
   ]
  },
  {
   "cell_type": "code",
   "execution_count": null,
   "id": "e9c4dc62",
   "metadata": {},
   "outputs": [],
   "source": [
    "percent_correct['Level'] = percent_correct['% Correct']\n",
    "percent_correct"
   ]
  },
  {
   "cell_type": "code",
   "execution_count": null,
   "id": "e14b9cae",
   "metadata": {},
   "outputs": [],
   "source": [
    "mask = marco_students['Standard'].str.contains('Performance Band Level')\n",
    "marco_students = marco_students[~mask]"
   ]
  },
  {
   "cell_type": "code",
   "execution_count": null,
   "id": "21884753",
   "metadata": {},
   "outputs": [],
   "source": [
    "marco_students"
   ]
  },
  {
   "cell_type": "code",
   "execution_count": null,
   "id": "cd7a926b",
   "metadata": {},
   "outputs": [],
   "source": [
    "mask = marco_students['Standard'].str.contains('Percent Correct')\n",
    "marco_students = marco_students[~mask]\n",
    "marco_students"
   ]
  },
  {
   "cell_type": "code",
   "execution_count": null,
   "id": "b034cff2",
   "metadata": {},
   "outputs": [],
   "source": [
    "marco_students = pd.concat([marco_students, performance_band, percent_correct])\n",
    "marco_students"
   ]
  },
  {
   "cell_type": "code",
   "execution_count": null,
   "id": "293f1938",
   "metadata": {},
   "outputs": [],
   "source": [
    "non_marco"
   ]
  },
  {
   "cell_type": "code",
   "execution_count": null,
   "id": "e04e6c6c",
   "metadata": {},
   "outputs": [],
   "source": [
    "full_students = pd.concat([non_marco, marco_students])\n",
    "full_students"
   ]
  },
  {
   "cell_type": "code",
   "execution_count": null,
   "id": "2c4f408f",
   "metadata": {},
   "outputs": [],
   "source": [
    "columns_to_drop = ['student_id', 'Performance Band Level_y', '% Correct']\n",
    "full_students = full_students.drop(columns=columns_to_drop)"
   ]
  },
  {
   "cell_type": "code",
   "execution_count": null,
   "id": "9e5c70f4",
   "metadata": {},
   "outputs": [],
   "source": [
    "unmelted = full_students.groupby(['Student ID', 'Current Site ID', 'Current Grade Level', 'State Student ID',\n",
    "             'First Name', 'Last Name', 'English Proficiency Code',\n",
    "            'English Proficiency', 'Student Is Special Ed?', 'Date Taken', 'Standard'])['Level'].max().unstack()\n",
    "unmelted"
   ]
  },
  {
   "cell_type": "code",
   "execution_count": null,
   "id": "12d33948",
   "metadata": {},
   "outputs": [],
   "source": [
    "unmelted = unmelted.rename(columns={'Performance Band Level_x': 'Performance Band Level'})\n",
    "unmelted"
   ]
  },
  {
   "cell_type": "code",
   "execution_count": null,
   "id": "69dcd9f5",
   "metadata": {},
   "outputs": [],
   "source": [
    "writer = pd.ExcelWriter(overall_final)\n",
    "final_overall.to_excel(writer, sheet_name='Overall', index=False)\n",
    "writer.save()              "
   ]
  },
  {
   "cell_type": "code",
   "execution_count": null,
   "id": "fb990113",
   "metadata": {},
   "outputs": [],
   "source": [
    "writer = pd.ExcelWriter(standards_final)\n",
    "unmelted.to_excel(writer, sheet_name='Overall', index=True)\n",
    "writer.save()     "
   ]
  },
  {
   "cell_type": "code",
   "execution_count": null,
   "id": "9d5469c7",
   "metadata": {},
   "outputs": [],
   "source": []
  }
 ],
 "metadata": {
  "kernelspec": {
   "display_name": "Python 3 (ipykernel)",
   "language": "python",
   "name": "python3"
  },
  "language_info": {
   "codemirror_mode": {
    "name": "ipython",
    "version": 3
   },
   "file_extension": ".py",
   "mimetype": "text/x-python",
   "name": "python",
   "nbconvert_exporter": "python",
   "pygments_lexer": "ipython3",
   "version": "3.9.7"
  }
 },
 "nbformat": 4,
 "nbformat_minor": 5
}
