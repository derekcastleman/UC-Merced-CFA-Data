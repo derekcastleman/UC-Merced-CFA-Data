{
 "cells": [
  {
   "cell_type": "code",
   "execution_count": null,
   "id": "363aaf9b",
   "metadata": {},
   "outputs": [],
   "source": [
    "import numpy as np\n",
    "import pandas as pd"
   ]
  },
  {
   "cell_type": "code",
   "execution_count": null,
   "id": "c5f5868a",
   "metadata": {},
   "outputs": [],
   "source": [
    "marco = input('Pathway of raw Marco learning data (get rid of quotations):   ')\n",
    "marco = pd.read_excel(marco)"
   ]
  },
  {
   "cell_type": "code",
   "execution_count": null,
   "id": "d7d04b08",
   "metadata": {},
   "outputs": [],
   "source": [
    "marco"
   ]
  },
  {
   "cell_type": "code",
   "execution_count": null,
   "id": "309d7a77",
   "metadata": {},
   "outputs": [],
   "source": [
    "overall = input('Pathway of raw Illuminate learning data (get rid of quotations):   ')\n",
    "overall = pd.read_excel(overall)"
   ]
  },
  {
   "cell_type": "code",
   "execution_count": null,
   "id": "d65ef2e3",
   "metadata": {},
   "outputs": [],
   "source": [
    "overall"
   ]
  },
  {
   "cell_type": "code",
   "execution_count": null,
   "id": "884ab6ce",
   "metadata": {},
   "outputs": [],
   "source": [
    "overall_standards = input('Pathway of raw Illuminate Standards learning data (get rid of quotations):   ')\n",
    "overall_standards = pd.read_excel(overall_standards)"
   ]
  },
  {
   "cell_type": "code",
   "execution_count": null,
   "id": "401821ae",
   "metadata": {},
   "outputs": [],
   "source": [
    "marco = marco[['student_id', 'Total']]\n",
    "marco"
   ]
  },
  {
   "cell_type": "code",
   "execution_count": null,
   "id": "34539789",
   "metadata": {},
   "outputs": [],
   "source": [
    "marco = marco.fillna(0)\n",
    "marco"
   ]
  },
  {
   "cell_type": "code",
   "execution_count": null,
   "id": "74283acb",
   "metadata": {},
   "outputs": [],
   "source": [
    "combined = pd.merge(overall, marco, how='left', left_on='Student Id', right_on='student_id')\n",
    "combined"
   ]
  },
  {
   "cell_type": "code",
   "execution_count": null,
   "id": "4c0fa20e",
   "metadata": {},
   "outputs": [],
   "source": [
    "combined = combined.drop_duplicates(subset=['Student Id'])\n",
    "combined"
   ]
  },
  {
   "cell_type": "code",
   "execution_count": null,
   "id": "cb69b5c0",
   "metadata": {},
   "outputs": [],
   "source": [
    "combined['Number Correct'] = combined.apply(lambda row: row['Total']\n",
    "                            if pd.notna(row['Total']) else row['Number Correct'], axis=1)\n",
    "combined"
   ]
  },
  {
   "cell_type": "code",
   "execution_count": null,
   "id": "7b728fae",
   "metadata": {},
   "outputs": [],
   "source": [
    "combined['Performance Band Level'] = combined.apply(lambda row: row['Total']\n",
    "                            if pd.notna(row['Total']) else row['Performance Band Level'], axis=1)\n",
    "combined"
   ]
  },
  {
   "cell_type": "code",
   "execution_count": null,
   "id": "1d9c7f2f",
   "metadata": {},
   "outputs": [],
   "source": [
    "combined['Percentage'] = ((combined['Number Correct'] / combined['Number Possible']) * 100).round(2).astype(str) + '%'\n",
    "combined"
   ]
  },
  {
   "cell_type": "code",
   "execution_count": null,
   "id": "6aaa6b71",
   "metadata": {},
   "outputs": [],
   "source": [
    "combined['% Correct'] = combined['Percentage']\n",
    "combined"
   ]
  },
  {
   "cell_type": "code",
   "execution_count": null,
   "id": "57e312e3",
   "metadata": {},
   "outputs": [],
   "source": [
    "columns_to_drop = ['student_id', 'Total', 'Percentage']\n",
    "final_overall = combined.drop(columns=columns_to_drop)\n",
    "final_overall"
   ]
  },
  {
   "cell_type": "code",
   "execution_count": null,
   "id": "00e72b31",
   "metadata": {},
   "outputs": [],
   "source": [
    "overall_standards"
   ]
  },
  {
   "cell_type": "code",
   "execution_count": null,
   "id": "ab4ff4ee",
   "metadata": {},
   "outputs": [],
   "source": [
    "combined"
   ]
  },
  {
   "cell_type": "code",
   "execution_count": null,
   "id": "42c278f3",
   "metadata": {},
   "outputs": [],
   "source": [
    "columns_to_drop = ['Percentage']\n",
    "combined = combined.drop(columns=columns_to_drop)"
   ]
  },
  {
   "cell_type": "code",
   "execution_count": null,
   "id": "81651834",
   "metadata": {},
   "outputs": [],
   "source": [
    "combined"
   ]
  },
  {
   "cell_type": "code",
   "execution_count": null,
   "id": "62b6a3d4",
   "metadata": {},
   "outputs": [],
   "source": [
    "combined['Percentage'] = ((combined['Number Correct'] / combined['Number Possible']) * 100).round(2)\n",
    "combined"
   ]
  },
  {
   "cell_type": "code",
   "execution_count": null,
   "id": "6e732354",
   "metadata": {},
   "outputs": [],
   "source": [
    "combined['% Correct'] = combined['Percentage']\n",
    "combined"
   ]
  },
  {
   "cell_type": "code",
   "execution_count": null,
   "id": "ec652c54",
   "metadata": {},
   "outputs": [],
   "source": [
    "marco_standards = combined[['student_id', 'Performance Band Level', '% Correct']]\n",
    "marco_standards"
   ]
  },
  {
   "cell_type": "code",
   "execution_count": null,
   "id": "fc5deec0",
   "metadata": {},
   "outputs": [],
   "source": [
    "overall_standards"
   ]
  },
  {
   "cell_type": "code",
   "execution_count": null,
   "id": "7e66ffdf",
   "metadata": {},
   "outputs": [],
   "source": [
    "combined_standards = pd.merge(overall_standards, marco_standards, how='left', left_on='Student ID', right_on='student_id')\n",
    "combined_standards"
   ]
  },
  {
   "cell_type": "code",
   "execution_count": null,
   "id": "f6b2bcf0",
   "metadata": {},
   "outputs": [],
   "source": [
    "melted = combined_standards.melt(['Current Site ID','Student ID', 'Current Grade Level', 'State Student ID',\n",
    "             'First Name', 'Last Name', 'English Proficiency Code',\n",
    "            'English Proficiency', 'Student Is Special Ed?', 'Date Taken', 'student_id',\n",
    "            'Performance Band Level_y', '% Correct'], var_name='Standard', value_name='Level')\n",
    "melted"
   ]
  },
  {
   "cell_type": "code",
   "execution_count": null,
   "id": "55bb086f",
   "metadata": {},
   "outputs": [],
   "source": [
    "non_marco = melted[melted['student_id'].isna()]\n",
    "non_marco"
   ]
  },
  {
   "cell_type": "code",
   "execution_count": null,
   "id": "2a718651",
   "metadata": {},
   "outputs": [],
   "source": [
    "marco_students = melted[melted['student_id'].notna()]\n",
    "marco_students"
   ]
  },
  {
   "cell_type": "code",
   "execution_count": null,
   "id": "86d2b4db",
   "metadata": {},
   "outputs": [],
   "source": [
    "marco_students = marco_students[marco_students['Level'].notna()]\n",
    "marco_students"
   ]
  },
  {
   "cell_type": "code",
   "execution_count": null,
   "id": "ef669aa5",
   "metadata": {},
   "outputs": [],
   "source": [
    "performance_band = marco_students[marco_students['Standard'].str.contains('Performance Band Level')]\n",
    "performance_band"
   ]
  },
  {
   "cell_type": "code",
   "execution_count": null,
   "id": "54518ea3",
   "metadata": {},
   "outputs": [],
   "source": [
    "performance_band['Level'] = performance_band['Performance Band Level_y']\n",
    "performance_band"
   ]
  },
  {
   "cell_type": "code",
   "execution_count": null,
   "id": "f48348fe",
   "metadata": {},
   "outputs": [],
   "source": [
    "percent_correct = marco_students[marco_students['Standard'].str.contains('Percent Correct')]\n",
    "percent_correct"
   ]
  },
  {
   "cell_type": "code",
   "execution_count": null,
   "id": "379ed8ff",
   "metadata": {},
   "outputs": [],
   "source": [
    "percent_correct['Level'] = percent_correct['% Correct']\n",
    "percent_correct"
   ]
  },
  {
   "cell_type": "code",
   "execution_count": null,
   "id": "cf7582ae",
   "metadata": {},
   "outputs": [],
   "source": [
    "mask = marco_students['Standard'].str.contains('Performance Band Level')\n",
    "marco_students = marco_students[~mask]"
   ]
  },
  {
   "cell_type": "code",
   "execution_count": null,
   "id": "8a42309a",
   "metadata": {},
   "outputs": [],
   "source": [
    "marco_students"
   ]
  },
  {
   "cell_type": "code",
   "execution_count": null,
   "id": "bd8c2267",
   "metadata": {},
   "outputs": [],
   "source": [
    "mask = marco_students['Standard'].str.contains('Percent Correct')\n",
    "marco_students = marco_students[~mask]\n",
    "marco_students"
   ]
  },
  {
   "cell_type": "code",
   "execution_count": null,
   "id": "45a52f0d",
   "metadata": {},
   "outputs": [],
   "source": [
    "marco_students = pd.concat([marco_students, performance_band, percent_correct])\n",
    "marco_students"
   ]
  },
  {
   "cell_type": "code",
   "execution_count": null,
   "id": "a3b9c3d7",
   "metadata": {},
   "outputs": [],
   "source": [
    "non_marco"
   ]
  },
  {
   "cell_type": "code",
   "execution_count": null,
   "id": "9aa97c94",
   "metadata": {},
   "outputs": [],
   "source": [
    "full_students = pd.concat([non_marco, marco_students])\n",
    "full_students"
   ]
  },
  {
   "cell_type": "code",
   "execution_count": null,
   "id": "9ab0455f",
   "metadata": {},
   "outputs": [],
   "source": [
    "columns_to_drop = ['student_id', 'Performance Band Level_y', '% Correct']\n",
    "full_students = full_students.drop(columns=columns_to_drop)"
   ]
  },
  {
   "cell_type": "code",
   "execution_count": null,
   "id": "a118dd7b",
   "metadata": {},
   "outputs": [],
   "source": [
    "unmelted = full_students.groupby(['Student ID', 'Current Site ID', 'Current Grade Level', 'State Student ID',\n",
    "             'First Name', 'Last Name', 'English Proficiency Code',\n",
    "            'English Proficiency', 'Student Is Special Ed?', 'Date Taken', 'Standard'])['Level'].max().unstack()\n",
    "unmelted"
   ]
  },
  {
   "cell_type": "code",
   "execution_count": null,
   "id": "63511243",
   "metadata": {},
   "outputs": [],
   "source": [
    "unmelted = unmelted.rename(columns={'Performance Band Level_x': 'Performance Band Level'})\n",
    "unmelted"
   ]
  },
  {
   "cell_type": "code",
   "execution_count": null,
   "id": "ec9427c5",
   "metadata": {},
   "outputs": [],
   "source": [
    "import base64\n",
    "from IPython.display import HTML\n",
    "\n",
    "def create_download_link( df, title = \"CFA Overall with Marco\", filename = \"CFA Overall with Marco\"):\n",
    "    csv = df.to_csv(index=False)\n",
    "    b64 = base64.b64encode(csv.encode())\n",
    "    payload = b64.decode()\n",
    "    html = '<a download=\"{filename}\" href=\"data:text/csv;base64,{payload}\" target=\"_blank\">{title}</a>'\n",
    "    html = html.format(payload=payload,title=title,filename=filename)\n",
    "    return HTML(html)\n",
    "\n",
    "create_download_link(final_overall)"
   ]
  },
  {
   "cell_type": "code",
   "execution_count": null,
   "id": "c7d82da4",
   "metadata": {},
   "outputs": [],
   "source": [
    "import base64\n",
    "from IPython.display import HTML\n",
    "\n",
    "def create_download_link( df, title = \"CFA Standards ELA with Marco\", filename = \"CFA Standards ELA with Marco\"):\n",
    "    csv = df.to_csv()\n",
    "    b64 = base64.b64encode(csv.encode())\n",
    "    payload = b64.decode()\n",
    "    html = '<a download=\"{filename}\" href=\"data:text/csv;base64,{payload}\" target=\"_blank\">{title}</a>'\n",
    "    html = html.format(payload=payload,title=title,filename=filename)\n",
    "    return HTML(html)\n",
    "\n",
    "create_download_link(unmelted)"
   ]
  },
  {
   "cell_type": "code",
   "execution_count": null,
   "id": "c3d935b5",
   "metadata": {},
   "outputs": [],
   "source": []
  }
 ],
 "metadata": {
  "kernelspec": {
   "display_name": "Python 3 (ipykernel)",
   "language": "python",
   "name": "python3"
  },
  "language_info": {
   "codemirror_mode": {
    "name": "ipython",
    "version": 3
   },
   "file_extension": ".py",
   "mimetype": "text/x-python",
   "name": "python",
   "nbconvert_exporter": "python",
   "pygments_lexer": "ipython3",
   "version": "3.9.7"
  }
 },
 "nbformat": 4,
 "nbformat_minor": 5
}
